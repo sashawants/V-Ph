{
 "cells": [
  {
   "cell_type": "markdown",
   "metadata": {},
   "source": [
    "## Метод Нелдера – Мида(метод деформированного многогранника)"
   ]
  },
  {
   "cell_type": "code",
   "execution_count": 1,
   "metadata": {
    "collapsed": true
   },
   "outputs": [],
   "source": [
    "import numpy as np\n",
    "import math"
   ]
  },
  {
   "cell_type": "markdown",
   "metadata": {},
   "source": [
    "###### Определим начальные точки многогранника и константы"
   ]
  },
  {
   "cell_type": "code",
   "execution_count": 67,
   "metadata": {
    "collapsed": true
   },
   "outputs": [],
   "source": [
    "a = 1.0\n",
    "b = 0.5\n",
    "g = 2.0          # константы для деформации\n",
    "\n",
    "n = 3            # мерность пространства\n",
    "k = 1.0          # координаты по базисным осям для первого многогранника\n",
    "eps = 1e-5       # точность"
   ]
  },
  {
   "cell_type": "markdown",
   "metadata": {},
   "source": [
    "##### Введем функцию, для которой будем искать минимум"
   ]
  },
  {
   "cell_type": "code",
   "execution_count": 68,
   "metadata": {
    "collapsed": true
   },
   "outputs": [],
   "source": [
    "def fff(x):\n",
    "    return (sum(2*x**2 for x in x)-sum(x for x in x))"
   ]
  },
  {
   "cell_type": "markdown",
   "metadata": {},
   "source": [
    "##### эта функция ищет среднее арифметическоe по каждой из координат xi, если xi != ex"
   ]
  },
  {
   "cell_type": "code",
   "execution_count": 69,
   "metadata": {
    "collapsed": true
   },
   "outputs": [],
   "source": [
    "def ccc(x,ex):\n",
    "    c = []\n",
    "    for i in range(n):\n",
    "        #print([x[j][i] for j in range(n+1) if j!=ex])\n",
    "        c += [(1/n)*sum([x[j][i] for j in range(n+1) if j!=ex])]\n",
    "        #print (c[i]*n)\n",
    "    return c   "
   ]
  },
  {
   "cell_type": "markdown",
   "metadata": {},
   "source": [
    "###### пусть первый многоугольник будет с вершиной в 0 и единичках по каждой из осей"
   ]
  },
  {
   "cell_type": "code",
   "execution_count": 70,
   "metadata": {},
   "outputs": [
    {
     "name": "stdout",
     "output_type": "stream",
     "text": [
      "x= [[1.0, 0.0, 0.0], [0.0, 1.0, 0.0], [0.0, 0.0, 1.0], [0.0, 0.0, 0.0]]\n",
      "f= [1.0, 1.0, 1.0, 0.0]\n"
     ]
    }
   ],
   "source": [
    "x = []\n",
    "for i in range(n+1):\n",
    "    x.append([0.0] * n) \n",
    "\n",
    "for i in range(n):\n",
    "    x[i][i] = k\n",
    "print ('x=',x)\n",
    "\n",
    "f = [fff(x[i]) for i in range(n+1)]\n",
    "print ('f=',f)"
   ]
  },
  {
   "cell_type": "markdown",
   "metadata": {},
   "source": [
    "######  Начинаем искать минимум"
   ]
  },
  {
   "cell_type": "code",
   "execution_count": 71,
   "metadata": {},
   "outputs": [
    {
     "name": "stdout",
     "output_type": "stream",
     "text": [
      "итого:\n",
      "минимум : -0.37499331265252955 ,  достигается в точке : [0.24819056419203406, 0.24991193057507682, 0.2497512841612604]\n"
     ]
    }
   ],
   "source": [
    "ch = k      #мера размера многогрнника\n",
    "inter = 0\n",
    "\n",
    "# print('f(0)=',f)\n",
    "# print('x(0)=',x)\n",
    "\n",
    "while ch>eps:\n",
    "    \n",
    "    h = f.index(max(f))\n",
    "    f1 = [f[i] for i in range(n+1) if f[i]!=f[h]]\n",
    "    v = f.index(max(f1))\n",
    "    l = f.index(min(f))\n",
    "    #print('hvl=',h,v,l)\n",
    "    \n",
    "    #координаты\n",
    "    xc = ccc(x,h)             \n",
    "    xh = x[h]\n",
    "    xv = x[v]\n",
    "    xl = x[l]\n",
    "    #print('x(chvl)=',xc,xh,xv,xl)\n",
    "\n",
    "    fc = fff(xc)\n",
    "    fh = f[h]\n",
    "    fv = f[v]\n",
    "    fl = f[l]\n",
    "    #print('f(chvl)=',fc,fh,fv,fl)\n",
    "    \n",
    "    xr = [(1+a)*xc[i] - a*xh[i] for i in range(n)]\n",
    "    fr = fff(xr)\n",
    "    #print('xr,fr=',xr,fr)\n",
    "    \n",
    "    if fr<=fl:\n",
    "        xe = [(1-g)*xc[i] + g*xh[i] for i in range(n)]\n",
    "        fe = fff(xe)\n",
    "        #print('check1')\n",
    "        \n",
    "        if fe<fl:\n",
    "            #print('check1.1')\n",
    "            xh = xe\n",
    "        if fe>fl:\n",
    "            #print('check1.2')\n",
    "            xh = xr\n",
    "        \n",
    "    elif (fl<fr)&(fr<=fv):\n",
    "        #print('check2')\n",
    "        xh = xr\n",
    "        \n",
    "    elif (fh>fr)&(fr>fv):\n",
    "        #print('check3')\n",
    "        xx = [t for t in xr]\n",
    "        xr = [t for t in xh]\n",
    "        xh = [t for t in xx]\n",
    "        fh = fff(xh)\n",
    "        fr = fff(xr)\n",
    "        \n",
    "    elif fr>=fh:\n",
    "        #print('check4')\n",
    "        xs = [(1-b)*xc[i] + b*xh[i] for i in range(n)]\n",
    "        fs = fff(xs)\n",
    "        \n",
    "        if fs<fh:\n",
    "            #print('check4.1')\n",
    "            xh = xs\n",
    "            \n",
    "        if fs>fh:\n",
    "            #print('check4.2')\n",
    "            for i in range(n+1):\n",
    "                x[i] = xl +(x[i]-xl)/2.0\n",
    "            f = [fff(x[i]) for i in range(n+1)]\n",
    "    \n",
    "    #print('check0')\n",
    "    f[h] = fff(xh)\n",
    "    fh = f[h]\n",
    "    x[h] = [t for t in xh]\n",
    "    \n",
    "    \n",
    "    fav = sum(f)/(n+1)\n",
    "    sch = 0\n",
    "    for i in range(n+1):\n",
    "        sch += (f[i] - fav)**2\n",
    "    ch = math.sqrt(sch/(n+1))\n",
    "    inter +=1\n",
    "    #print('f=',f)\n",
    "    #print('x=',x)\n",
    "    #print()\n",
    "\n",
    "# print()    \n",
    "# print('f(res)=',f)\n",
    "# print('x(res)=',x)\n",
    "# print()\n",
    "print('итого:')\n",
    "print('минимум :',fh, ',  достигается в точке :',xh)"
   ]
  },
  {
   "cell_type": "code",
   "execution_count": 73,
   "metadata": {},
   "outputs": [
    {
     "data": {
      "text/html": [
       "<img src=\"https://github.com/sashawants/V-Ph/blob/master/5%20_Nelder–Mead%20method(img).png?raw=true\"/>"
      ],
      "text/plain": [
       "<IPython.core.display.Image object>"
      ]
     },
     "execution_count": 73,
     "metadata": {},
     "output_type": "execute_result"
    }
   ],
   "source": [
    "from IPython.display import Image\n",
    "from IPython.core.display import HTML \n",
    "Image(url= \"https://github.com/sashawants/V-Ph/blob/master/5%20_Nelder–Mead%20method(img).png?raw=true\")"
   ]
  },
  {
   "cell_type": "code",
   "execution_count": null,
   "metadata": {
    "collapsed": true
   },
   "outputs": [],
   "source": []
  }
 ],
 "metadata": {
  "kernelspec": {
   "display_name": "Python 3",
   "language": "python",
   "name": "python3"
  },
  "language_info": {
   "codemirror_mode": {
    "name": "ipython",
    "version": 3
   },
   "file_extension": ".py",
   "mimetype": "text/x-python",
   "name": "python",
   "nbconvert_exporter": "python",
   "pygments_lexer": "ipython3",
   "version": "3.6.3"
  }
 },
 "nbformat": 4,
 "nbformat_minor": 2
}

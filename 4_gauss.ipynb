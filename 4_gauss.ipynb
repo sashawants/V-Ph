{
 "cells": [
  {
   "cell_type": "code",
   "execution_count": 1,
   "metadata": {
    "collapsed": true
   },
   "outputs": [],
   "source": [
    "import numpy as np\n",
    "import math"
   ]
  },
  {
   "cell_type": "code",
   "execution_count": 2,
   "metadata": {
    "collapsed": true
   },
   "outputs": [],
   "source": [
    "def gauss(A,b):\n",
    "    \n",
    "    s = A.shape[0]\n",
    "    \n",
    "    # приведение матрицы к треугольному виду \n",
    "    for i in range(s-1):\n",
    "        \n",
    "        l = [abs(A[j,i]) for j in range(i,s)]\n",
    "        mi = min(l)\n",
    "        imi = l.index(mi)+i\n",
    "        \n",
    "        if mi==0:\n",
    "            for k in range(i,s):\n",
    "                \n",
    "                A[imi,k], A[s-1,k] = A[s-1,k], A[imi,k]\n",
    "                b[imi], b[s-1] = b[s-1], b[imi]\n",
    "                \n",
    "        else:\n",
    "            for k in range(i,s):\n",
    "                \n",
    "                A[imi,k], A[i,k] = A[i,k], A[imi,k]\n",
    "                b[imi], b[i] = b[i], b[imi]\n",
    "\n",
    "        for q in range(i+1,s):\n",
    "            \n",
    "            t = A[q,i]/A[i,i]\n",
    "            A[q,i] = 0\n",
    "            \n",
    "            for m in range(i+1,s):\n",
    "                \n",
    "                A[q,m] = A[q,m] - t*A[i,m]\n",
    "            b[q] = b[q] - t*b[i]\n",
    "\n",
    "    print(\"A :\")\n",
    "    print (A)\n",
    "    print(\"b :\")\n",
    "    print (b)\n",
    "\n",
    "    \n",
    "    # решений \"треугольной системы\"\n",
    "    ch = 0\n",
    "    x = np.zeros(s)\n",
    "    for i in range(s-1, -1, -1):\n",
    "        a = 0.0\n",
    "        for ii in range(1, s-i):\n",
    "            a += A[ii,i+ii]*x[ii+i]\n",
    "        if A[i,i]==0:\n",
    "            ch = 1\n",
    "        else:\n",
    "            x[i] = round((b[i] - a)/A[i,i],3)\n",
    "    \n",
    "    \n",
    "    # вывод решений\n",
    "    print(\"x :\")\n",
    "    if ch==0:\n",
    "        print (x)\n",
    "    else:\n",
    "        print(\"Система имеет бесконечное число решений или не имеет решений вовсе\")\n",
    "    "
   ]
  },
  {
   "cell_type": "markdown",
   "metadata": {},
   "source": [
    "Матрица 2х2:"
   ]
  },
  {
   "cell_type": "code",
   "execution_count": 3,
   "metadata": {},
   "outputs": [
    {
     "name": "stdout",
     "output_type": "stream",
     "text": [
      "A :\n",
      "[[ 1.  5.]\n",
      " [ 0. -8.]]\n",
      "b :\n",
      "[ 1.  0.]\n",
      "x :\n",
      "[ 1. -0.]\n"
     ]
    }
   ],
   "source": [
    "A = np.array([[2.0,2],[1,5]])\n",
    "b = np.array([1.0,2])\n",
    "\n",
    "gauss(A,b)              "
   ]
  },
  {
   "cell_type": "markdown",
   "metadata": {},
   "source": [
    "Матрица 3х3:"
   ]
  },
  {
   "cell_type": "code",
   "execution_count": 8,
   "metadata": {},
   "outputs": [
    {
     "name": "stdout",
     "output_type": "stream",
     "text": [
      "A :\n",
      "[[ 2.   2.   3. ]\n",
      " [ 0.   4.   4.5]\n",
      " [ 0.   0.  -6. ]]\n",
      "b :\n",
      "[ 1.   1.5  2. ]\n",
      "x :\n",
      "[-1.999  0.75  -0.333]\n"
     ]
    },
    {
     "data": {
      "text/html": [
       "<img src=\"https://github.com/sashawants/V-Ph/blob/master/Снимок%20экрана%202018-03-04%20в%2014.48.12.png?raw=true\"/>"
      ],
      "text/plain": [
       "<IPython.core.display.Image object>"
      ]
     },
     "execution_count": 8,
     "metadata": {},
     "output_type": "execute_result"
    }
   ],
   "source": [
    "A = np.array([[2.0,2,3],[1,5,6],[0,8,3]])\n",
    "b = np.array([1.0,2,5])\n",
    "\n",
    "gauss(A,b)\n",
    "\n",
    "from IPython.display import Image\n",
    "from IPython.core.display import HTML \n",
    "Image(url= \"https://github.com/sashawants/V-Ph/blob/master/4_gauss(img).png?raw=true")"
   ]
  },
  {
   "cell_type": "markdown",
   "metadata": {},
   "source": [
    "Если матрица неопределенная или несовместная, программа выдает ошибку"
   ]
  },
  {
   "cell_type": "code",
   "execution_count": 5,
   "metadata": {},
   "outputs": [
    {
     "name": "stdout",
     "output_type": "stream",
     "text": [
      "A :\n",
      "[[ 1.  5.  6.]\n",
      " [ 0. -8. -9.]\n",
      " [ 0.  0.  0.]]\n",
      "b :\n",
      "[ 2. -3.  3.]\n",
      "x :\n",
      "Система имеет бесконечное число решений или не имеет решений вовсе\n"
     ]
    }
   ],
   "source": [
    "A = np.array([[2.0,2,3],[1,5,6],[1,5,6]])\n",
    "b = np.array([1.0,2,5])\n",
    "\n",
    "gauss(A,b)"
   ]
  },
  {
   "cell_type": "markdown",
   "metadata": {},
   "source": [
    "Матрица 10х10:"
   ]
  },
  {
   "cell_type": "code",
   "execution_count": 6,
   "metadata": {},
   "outputs": [
    {
     "name": "stdout",
     "output_type": "stream",
     "text": [
      "A :\n",
      "[[ 1  1  1  0  0  0  0  0  0  0]\n",
      " [ 0 -1 -1  0  0  0  0  0  0  1]\n",
      " [ 0  0  1  1  0  0  0  0  0  0]\n",
      " [ 0  0  0  1  1  0  0  0  0  0]\n",
      " [ 0  0  0  0 -1  0  0  0  0  1]\n",
      " [ 0  0  0  0  0  1  0  0  0  1]\n",
      " [ 0  0  0  0  0  0  1  0  0 -1]\n",
      " [ 0  0  0  0  0  0  0  1  0  1]\n",
      " [ 0  0  0  0  0  0  0  0  1 -1]\n",
      " [ 0  0  0  0  0  0  0  0  0  2]]\n",
      "b :\n",
      "[ 1.  1.  8.  3.  2.  5. -2.  7. -3.  9.]\n",
      "x :\n",
      "[-13.5   1.    3.5   7.5   2.5   0.5  -2.    7.   -7.5   4.5]\n"
     ]
    }
   ],
   "source": [
    "A = np.array([[1, 1, 1, 0, 0, 0, 0, 0, 0, 0], [0, 1, 1, 1, 0, 0, 0, 0, 0, 0], [0, 0, 1, 1, 0, 0, 0, 0, 0, 0], [0, 0, 0, 1, 1, 0, 0, 0, 0, 0], [0, 0, 0, 0, 1, 1, 0, 0, 0, 0], [0, 0, 0, 0, 0, 1, 1, 0, 0, 0], [0, 0, 0, 0, 0, 0, 1, 1, 0, 0], [0, 0, 0, 0, 0, 0, 0, 1, 1, 0], [0, 0, 0, 0, 0, 0, 0, 0, 1, 1], [1, 0, 0, 0, 0, 0, 0, 0, 0, 1]])\n",
    "b = np.array([1.0,2,5,3,3,3,4,5,6,7])\n",
    "\n",
    "gauss(A,b)"
   ]
  }
 ],
 "metadata": {
  "kernelspec": {
   "display_name": "Python 3",
   "language": "python",
   "name": "python3"
  },
  "language_info": {
   "codemirror_mode": {
    "name": "ipython",
    "version": 3
   },
   "file_extension": ".py",
   "mimetype": "text/x-python",
   "name": "python",
   "nbconvert_exporter": "python",
   "pygments_lexer": "ipython3",
   "version": "3.6.3"
  }
 },
 "nbformat": 4,
 "nbformat_minor": 2
}

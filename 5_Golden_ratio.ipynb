{
 "cells": [
  {
   "cell_type": "markdown",
   "metadata": {},
   "source": [
    "### Нахождение минимумв функции методом золотого сечения"
   ]
  },
  {
   "cell_type": "code",
   "execution_count": 4,
   "metadata": {
    "collapsed": true
   },
   "outputs": [],
   "source": [
    "import math\n",
    "import numpy"
   ]
  },
  {
   "cell_type": "code",
   "execution_count": 47,
   "metadata": {
    "collapsed": true
   },
   "outputs": [],
   "source": [
    "def fff(x):\n",
    "    return (math.cos(x))"
   ]
  },
  {
   "cell_type": "code",
   "execution_count": 6,
   "metadata": {
    "collapsed": true
   },
   "outputs": [],
   "source": [
    "eps = 1e-6\n",
    "prop = (1+math.sqrt(5.0))/2.0"
   ]
  },
  {
   "cell_type": "code",
   "execution_count": null,
   "metadata": {
    "collapsed": true
   },
   "outputs": [],
   "source": [
    "def iteration(f, a, b, EPS):\n",
    "    if abs(b - a) >= EPS:\n",
    "        a1 = a + abs(a - b) / 1.62\n",
    "        b1 = b - abs(a1 - b) / 1.62\n",
    "        difference.append(abs(a - b))\n",
    "        if f(a1) > f(b1):\n",
    "            return iteration(f, a1, b, EPS)\n",
    "        else:\n",
    "            return iteration(f, a, b1, EPS)\n",
    "    else:\n",
    "        return a, b"
   ]
  },
  {
   "cell_type": "code",
   "execution_count": 48,
   "metadata": {
    "collapsed": true
   },
   "outputs": [],
   "source": [
    "def zzz(a,b):\n",
    "    \n",
    "    h = math.fabs(fff(a) - fff(b)) \n",
    "    \n",
    "    while h > eps:\n",
    "        \n",
    "        x2 = a + abs(b - a) / prop\n",
    "        x1 = b - abs(b - a) / prop\n",
    "        \n",
    "        if (fff(x1)>=fff(x2)):\n",
    "            a=x1\n",
    "        else:\n",
    "            b=x2\n",
    "        h = abs(b - a)\n",
    "        \n",
    "    x = (a + b)/2.0\n",
    "    return fff(x),x"
   ]
  },
  {
   "cell_type": "code",
   "execution_count": 49,
   "metadata": {},
   "outputs": [
    {
     "data": {
      "text/plain": [
       "(-0.9899924262828902, 2.9999995017189036)"
      ]
     },
     "execution_count": 49,
     "metadata": {},
     "output_type": "execute_result"
    }
   ],
   "source": [
    "zzz(0,3)"
   ]
  },
  {
   "cell_type": "code",
   "execution_count": null,
   "metadata": {
    "collapsed": true
   },
   "outputs": [],
   "source": []
  }
 ],
 "metadata": {
  "kernelspec": {
   "display_name": "Python 3",
   "language": "python",
   "name": "python3"
  },
  "language_info": {
   "codemirror_mode": {
    "name": "ipython",
    "version": 3
   },
   "file_extension": ".py",
   "mimetype": "text/x-python",
   "name": "python",
   "nbconvert_exporter": "python",
   "pygments_lexer": "ipython3",
   "version": "3.6.3"
  }
 },
 "nbformat": 4,
 "nbformat_minor": 2
}

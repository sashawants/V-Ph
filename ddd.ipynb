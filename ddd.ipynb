{
 "cells": [
  {
   "cell_type": "markdown",
   "metadata": {},
   "source": [
    "  ### Вычисление ошибки дифференцирования односторонним и центральным методами для функции $f(x) = { x^{11}\\,}$"
   ]
  },
  {
   "cell_type": "code",
   "execution_count": 1,
   "metadata": {
    "collapsed": true
   },
   "outputs": [],
   "source": [
    "import numpy as np\n",
    "import math"
   ]
  },
  {
   "cell_type": "code",
   "execution_count": 2,
   "metadata": {
    "collapsed": true
   },
   "outputs": [],
   "source": [
    "import matplotlib as mpl\n",
    "import matplotlib.pyplot as plt\n",
    "%matplotlib inline"
   ]
  },
  {
   "cell_type": "code",
   "execution_count": 13,
   "metadata": {
    "collapsed": true
   },
   "outputs": [],
   "source": [
    "a = 0\n",
    "b = 1"
   ]
  },
  {
   "cell_type": "code",
   "execution_count": 14,
   "metadata": {
    "collapsed": true
   },
   "outputs": [],
   "source": [
    "N = 100\n",
    "p = 1.7"
   ]
  },
  {
   "cell_type": "markdown",
   "metadata": {},
   "source": [
    "Начальная точка, в которой будет вычислена производная"
   ]
  },
  {
   "cell_type": "code",
   "execution_count": 15,
   "metadata": {
    "collapsed": true
   },
   "outputs": [],
   "source": [
    "x = 1.2"
   ]
  },
  {
   "cell_type": "markdown",
   "metadata": {},
   "source": [
    "Задаем функцию и эталонную производную"
   ]
  },
  {
   "cell_type": "code",
   "execution_count": 16,
   "metadata": {
    "collapsed": true
   },
   "outputs": [],
   "source": [
    "def fff(x):\n",
    "    return x**11\n",
    "\n",
    "def dfff(x):\n",
    "    return 11*(x**10)"
   ]
  },
  {
   "cell_type": "markdown",
   "metadata": {},
   "source": [
    "Вводим два способа дифференцирования"
   ]
  },
  {
   "cell_type": "code",
   "execution_count": 17,
   "metadata": {
    "collapsed": true
   },
   "outputs": [],
   "source": [
    "def ddd(x,N):\n",
    "    h = math.fabs(a-x) / N\n",
    "    y = (fff(x+h) - fff(x-h)) / (2*h)\n",
    "    return (y,h)"
   ]
  },
  {
   "cell_type": "code",
   "execution_count": 18,
   "metadata": {},
   "outputs": [],
   "source": [
    "def dd(x,N):\n",
    "    h = math.fabs(a-x) / N\n",
    "    y = (fff(x+h) - fff(x)) / h\n",
    "    return (y,h)"
   ]
  },
  {
   "cell_type": "code",
   "execution_count": 19,
   "metadata": {},
   "outputs": [
    {
     "data": {
      "text/plain": [
       "(6.191736422399999e+100, 12000000000.0)"
      ]
     },
     "execution_count": 19,
     "metadata": {},
     "output_type": "execute_result"
    }
   ],
   "source": [
    "ddd(x,10**(-10))"
   ]
  },
  {
   "cell_type": "code",
   "execution_count": 20,
   "metadata": {},
   "outputs": [
    {
     "data": {
      "text/plain": [
       "(6.1917364292109145e+100, 12000000000.0)"
      ]
     },
     "execution_count": 20,
     "metadata": {},
     "output_type": "execute_result"
    }
   ],
   "source": [
    "dd(x,10**(-10))"
   ]
  },
  {
   "cell_type": "code",
   "execution_count": 21,
   "metadata": {},
   "outputs": [
    {
     "data": {
      "text/plain": [
       "68.10910064639997"
      ]
     },
     "execution_count": 21,
     "metadata": {},
     "output_type": "execute_result"
    }
   ],
   "source": [
    "dfff(x)"
   ]
  },
  {
   "cell_type": "code",
   "execution_count": 22,
   "metadata": {},
   "outputs": [
    {
     "data": {
      "text/plain": [
       "Text(0.5,1,'ошибки вычисения производной')"
      ]
     },
     "execution_count": 22,
     "metadata": {},
     "output_type": "execute_result"
    },
    {
     "data": {
      "image/png": "[encoded data removed]",
      "text/plain": [
       "<matplotlib.figure.Figure at 0x10f18c908>"
      ]
     },
     "metadata": {},
     "output_type": "display_data"
    }
   ],
   "source": [
    "mh = []\n",
    "my1 = []\n",
    "my2 = []\n",
    "for i in range(90):\n",
    "    y1,h = ddd(x,p**(i))\n",
    "    y2 = dd(x,p**(i))[0]\n",
    "    mh += [h]\n",
    "    my1 += [abs(dfff(x) - y1)]\n",
    "    my2 += [abs(dfff(x) - y2)]\n",
    "    \n",
    "fig = plt.figure()\n",
    "fig.add_axes([0, 0, 1.2, 1.2])\n",
    "\n",
    "plt.loglog(mh, my1, linewidth=1, marker='o', color='indianred', label = 'Центральная')\n",
    "plt.loglog(mh, my2, linewidth=1, marker='o', color='seagreen', label = 'Односторонняя')\n",
    "\n",
    "plt.grid(True)\n",
    "plt.legend()\n",
    "plt.ylabel('ошибка')\n",
    "plt.xlabel('шаг')\n",
    "plt.title('ошибки вычисения производной')"
   ]
  },
  {
   "cell_type": "markdown",
   "metadata": {},
   "source": [
    "На графике изображена зависимость ошибки вычисления(по сравнению с эталонной производной) от шага(h) разбиения отрезка[a,x],заметим, что при h < 10^-16 значение ошибки становится константой, что обусловлено достижением максимальной точности вычисления (h < машинной эпсилон). Разброс точек во второй четверти слева вызван накоплением ошибок округления."
   ]
  },
  {
   "cell_type": "code",
   "execution_count": null,
   "metadata": {
    "collapsed": true
   },
   "outputs": [],
   "source": []
  }
 ],
 "metadata": {
  "kernelspec": {
   "display_name": "Python 3",
   "language": "python",
   "name": "python3"
  },
  "language_info": {
   "codemirror_mode": {
    "name": "ipython",
    "version": 3
   },
   "file_extension": ".py",
   "mimetype": "text/x-python",
   "name": "python",
   "nbconvert_exporter": "python",
   "pygments_lexer": "ipython3",
   "version": "3.6.3"
  }
 },
 "nbformat": 4,
 "nbformat_minor": 2
}

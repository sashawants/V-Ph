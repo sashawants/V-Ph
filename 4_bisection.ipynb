{
 "cells": [
  {
   "cell_type": "markdown",
   "metadata": {},
   "source": [
    "### Вычисление корней уравнения $|sin(x)|=kx $ методом деления пополам  "
   ]
  },
  {
   "cell_type": "code",
   "execution_count": 1,
   "metadata": {
    "collapsed": true
   },
   "outputs": [],
   "source": [
    "import math"
   ]
  },
  {
   "cell_type": "code",
   "execution_count": 2,
   "metadata": {
    "collapsed": true
   },
   "outputs": [],
   "source": [
    "def fff(x,h):\n",
    "    return abs(math.sin(x)) - h*x"
   ]
  },
  {
   "cell_type": "code",
   "execution_count": 3,
   "metadata": {},
   "outputs": [],
   "source": [
    "ep = 10**(-6)"
   ]
  },
  {
   "cell_type": "code",
   "execution_count": 10,
   "metadata": {},
   "outputs": [],
   "source": [
    "def ccc(k):\n",
    "    \n",
    "    a = 0.0\n",
    "    b = math.pi/2.0\n",
    "    \n",
    "    X = [0.0]\n",
    "    m = 1.0\n",
    "    h = abs(k)\n",
    "    \n",
    "    if h == 0:\n",
    "        return \"inf\"\n",
    "    \n",
    "    else:\n",
    "        \n",
    "        while b <= 1/h:\n",
    "        \n",
    "            a1 = a\n",
    "            b1 = b\n",
    " \n",
    "            if fff(a1,h) * fff(b1,h) < 0:\n",
    "                m = (a1 + b1) / 2\n",
    "        \n",
    "                while abs(fff(m,h)) > ep:\n",
    "                    m = (a1 + b1) / 2\n",
    "            \n",
    "                    if fff(m,h) * fff(a1,h) > 0:\n",
    "                        a1 = m\n",
    "                    else:\n",
    "                        b1 = m\n",
    "                    \n",
    "                X.append(m)           \n",
    "             \n",
    "            a += math.pi/2\n",
    "            b += math.pi/2\n",
    "\n",
    "        if h >= 1:\n",
    "            return 0.0\n",
    "\n",
    "        elif k > 0:\n",
    "            return X\n",
    "\n",
    "        else:\n",
    "            return [-1 * i for i in X]"
   ]
  },
  {
   "cell_type": "markdown",
   "metadata": {},
   "source": [
    "Рассмотрим примеры для различных k:"
   ]
  },
  {
   "cell_type": "code",
   "execution_count": 16,
   "metadata": {},
   "outputs": [
    {
     "name": "stdout",
     "output_type": "stream",
     "text": [
      "[0.0, 2.8523414012741064, 3.4990641061792207, 5.679207336455653, 7.068173010874025, 8.423205352472882]\n"
     ]
    }
   ],
   "source": [
    "print(ccc(0.1))"
   ]
  },
  {
   "cell_type": "code",
   "execution_count": 17,
   "metadata": {},
   "outputs": [
    {
     "name": "stdout",
     "output_type": "stream",
     "text": [
      "0.0\n"
     ]
    }
   ],
   "source": [
    "print(ccc(10))"
   ]
  },
  {
   "cell_type": "code",
   "execution_count": 18,
   "metadata": {},
   "outputs": [
    {
     "name": "stdout",
     "output_type": "stream",
     "text": [
      "inf\n"
     ]
    }
   ],
   "source": [
    "print(ccc(0))"
   ]
  },
  {
   "cell_type": "code",
   "execution_count": 19,
   "metadata": {},
   "outputs": [
    {
     "name": "stdout",
     "output_type": "stream",
     "text": [
      "[-0.0, -2.8523414012741064, -3.4990641061792207, -5.679207336455653, -7.068173010874025, -8.423205352472882]\n"
     ]
    }
   ],
   "source": [
    "print(ccc(-0.1))"
   ]
  }
 ],
 "metadata": {
  "kernelspec": {
   "display_name": "Python 3",
   "language": "python",
   "name": "python3"
  },
  "language_info": {
   "codemirror_mode": {
    "name": "ipython",
    "version": 3
   },
   "file_extension": ".py",
   "mimetype": "text/x-python",
   "name": "python",
   "nbconvert_exporter": "python",
   "pygments_lexer": "ipython3",
   "version": "3.6.3"
  }
 },
 "nbformat": 4,
 "nbformat_minor": 2
}
